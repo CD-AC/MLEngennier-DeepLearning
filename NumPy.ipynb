{
  "cells": [
    {
      "cell_type": "markdown",
      "metadata": {
        "id": "view-in-github",
        "colab_type": "text"
      },
      "source": [
        "<a href=\"https://colab.research.google.com/github/CD-AC/MLEngennier-DeepLearning/blob/main/NumPy.ipynb\" target=\"_parent\"><img src=\"https://colab.research.google.com/assets/colab-badge.svg\" alt=\"Open In Colab\"/></a>"
      ]
    },
    {
      "cell_type": "markdown",
      "metadata": {
        "id": "jHVqopbFkJRL"
      },
      "source": [
        "# Introducción a NumPy"
      ]
    },
    {
      "cell_type": "markdown",
      "metadata": {
        "id": "sfHu3r4-kJRO"
      },
      "source": [
        "[Numpy](https://numpy.org) es una librería fundamental para la computación científica con Python.\n",
        "* Proporciona arrays N-dimensionales\n",
        "* Implementa funciones matemáticas sofisticadas\n",
        "* Proporciona herramientas para integrar C/C++ y Fortran\n",
        "* Proporciona mecanismos para facilitar la realización de tareas relacionadas con álgebra lineal o números aleatorios"
      ]
    },
    {
      "cell_type": "markdown",
      "metadata": {
        "id": "1jumL2IokJRO"
      },
      "source": [
        "## Imports"
      ]
    },
    {
      "cell_type": "code",
      "execution_count": 24,
      "metadata": {
        "id": "tyJbV2k-kJRP"
      },
      "outputs": [],
      "source": [
        "import numpy as np\n",
        "import matplotlib.pyplot as plt"
      ]
    },
    {
      "cell_type": "markdown",
      "metadata": {
        "id": "Lq_mRznmkJRQ"
      },
      "source": [
        "## Arrays"
      ]
    },
    {
      "cell_type": "markdown",
      "metadata": {
        "id": "7GaVDHzRkJRQ"
      },
      "source": [
        "Un **array** es una estructura de datos que consiste en una colección de elementos (valores o variables), cada uno identificado por al menos un índice o clave. Un array se almacena de modo que la posición de cada elemento se pueda calcular a partir de su tupla de índice mediante una fórmula matemática. El tipo más simple de array es un array lineal, también llamado array unidimensional."
      ]
    },
    {
      "cell_type": "markdown",
      "metadata": {
        "id": "2I0TsidxkJRR"
      },
      "source": [
        "En numpy:\n",
        "* Cada dimensión se denomina **axis**\n",
        "* El número de dimensiones se denomina **rank**\n",
        "* La lista de dimensiones con su correspondiente longitud se denomina **shape**\n",
        "* El número total de elementos (multiplicación de la longitud de las dimensiones) se denomina **size**"
      ]
    },
    {
      "cell_type": "code",
      "execution_count": 9,
      "metadata": {
        "colab": {
          "base_uri": "https://localhost:8080/"
        },
        "id": "eGeTSpZzkJRR",
        "outputId": "f33fca92-a375-4ab7-9271-71b53370cdbc"
      },
      "outputs": [
        {
          "output_type": "execute_result",
          "data": {
            "text/plain": [
              "array([[0., 0., 0., 0.],\n",
              "       [0., 0., 0., 0.]])"
            ]
          },
          "metadata": {},
          "execution_count": 9
        }
      ],
      "source": [
        "# Array cuyos valores son todos 0\n",
        "a = np.zeros((2, 4))\n",
        "a"
      ]
    },
    {
      "cell_type": "markdown",
      "metadata": {
        "id": "SzuCiU37kJRS"
      },
      "source": [
        "_**a**_ es un array:\n",
        "* Con dos **axis**, el primero de longitud 2 y el segundo de longitud 4\n",
        "* Con un **rank** igual a 2\n",
        "* Con un **shape** igual (2, 4)\n",
        "* Con un **size** igual a 8"
      ]
    },
    {
      "cell_type": "code",
      "execution_count": 10,
      "metadata": {
        "colab": {
          "base_uri": "https://localhost:8080/"
        },
        "id": "GEbAO4oZkJRS",
        "outputId": "3686db4f-3d34-4fb5-b9fa-f2d25a1669c3"
      },
      "outputs": [
        {
          "output_type": "execute_result",
          "data": {
            "text/plain": [
              "(2, 4)"
            ]
          },
          "metadata": {},
          "execution_count": 10
        }
      ],
      "source": [
        "a.shape"
      ]
    },
    {
      "cell_type": "code",
      "execution_count": 11,
      "metadata": {
        "colab": {
          "base_uri": "https://localhost:8080/"
        },
        "id": "jWMsExQfkJRS",
        "outputId": "d3f55024-bedf-4ab4-d9e8-7d25787536a0"
      },
      "outputs": [
        {
          "output_type": "execute_result",
          "data": {
            "text/plain": [
              "2"
            ]
          },
          "metadata": {},
          "execution_count": 11
        }
      ],
      "source": [
        "a.ndim"
      ]
    },
    {
      "cell_type": "code",
      "execution_count": 12,
      "metadata": {
        "colab": {
          "base_uri": "https://localhost:8080/"
        },
        "id": "2aJAFmHkkJRT",
        "outputId": "cbb70d61-ad1d-4917-80b5-d9795af16136"
      },
      "outputs": [
        {
          "output_type": "execute_result",
          "data": {
            "text/plain": [
              "8"
            ]
          },
          "metadata": {},
          "execution_count": 12
        }
      ],
      "source": [
        "a.size"
      ]
    },
    {
      "cell_type": "markdown",
      "metadata": {
        "id": "kzRE5OLRkJRT"
      },
      "source": [
        "## Creación de Arrays"
      ]
    },
    {
      "cell_type": "code",
      "execution_count": 13,
      "metadata": {
        "colab": {
          "base_uri": "https://localhost:8080/"
        },
        "id": "_fkP2zpWkJRT",
        "outputId": "0baa953b-b893-4949-a04e-2ebc8b5fe5b2"
      },
      "outputs": [
        {
          "output_type": "execute_result",
          "data": {
            "text/plain": [
              "array([[[0., 0., 0., 0.],\n",
              "        [0., 0., 0., 0.],\n",
              "        [0., 0., 0., 0.]],\n",
              "\n",
              "       [[0., 0., 0., 0.],\n",
              "        [0., 0., 0., 0.],\n",
              "        [0., 0., 0., 0.]]])"
            ]
          },
          "metadata": {},
          "execution_count": 13
        }
      ],
      "source": [
        "# Array cuyos valores son todos 0\n",
        "np.zeros((2, 3, 4))"
      ]
    },
    {
      "cell_type": "code",
      "execution_count": 14,
      "metadata": {
        "colab": {
          "base_uri": "https://localhost:8080/"
        },
        "id": "uat4kG2vkJRT",
        "outputId": "eb39f5e9-a787-4466-c26e-71fd1310c61b"
      },
      "outputs": [
        {
          "output_type": "execute_result",
          "data": {
            "text/plain": [
              "array([[[1., 1., 1., 1.],\n",
              "        [1., 1., 1., 1.],\n",
              "        [1., 1., 1., 1.]],\n",
              "\n",
              "       [[1., 1., 1., 1.],\n",
              "        [1., 1., 1., 1.],\n",
              "        [1., 1., 1., 1.]]])"
            ]
          },
          "metadata": {},
          "execution_count": 14
        }
      ],
      "source": [
        "# Array cuyos valores son todos 1\n",
        "np.ones((2, 3, 4))"
      ]
    },
    {
      "cell_type": "code",
      "execution_count": 15,
      "metadata": {
        "colab": {
          "base_uri": "https://localhost:8080/"
        },
        "id": "t9x0NuLykJRT",
        "outputId": "e5e713f7-8674-4f4e-dc93-5e21a3208ac4"
      },
      "outputs": [
        {
          "output_type": "execute_result",
          "data": {
            "text/plain": [
              "array([[[8, 8, 8, 8],\n",
              "        [8, 8, 8, 8],\n",
              "        [8, 8, 8, 8]],\n",
              "\n",
              "       [[8, 8, 8, 8],\n",
              "        [8, 8, 8, 8],\n",
              "        [8, 8, 8, 8]]])"
            ]
          },
          "metadata": {},
          "execution_count": 15
        }
      ],
      "source": [
        "# Array cuyos valores son todos el valor indicado como segundo parámetro de la función\n",
        "np.full((2, 3, 4), 8)"
      ]
    },
    {
      "cell_type": "code",
      "execution_count": 16,
      "metadata": {
        "colab": {
          "base_uri": "https://localhost:8080/"
        },
        "id": "RrEn8GWBkJRT",
        "outputId": "e9c3b71c-2e00-4c96-9589-2c18edb4be7b"
      },
      "outputs": [
        {
          "output_type": "execute_result",
          "data": {
            "text/plain": [
              "array([[[6.80148663e-316, 0.00000000e+000, 2.12199579e-314,\n",
              "         4.47543482e+217, 6.80648771e+199, 6.19406593e+223,\n",
              "         1.99108547e+209, 3.76476751e-085, 1.14406376e+243],\n",
              "        [1.95918563e-027, 1.05923054e-153, 3.60241447e+252,\n",
              "         1.62691065e+219, 6.36058239e+151, 1.05894327e-153,\n",
              "         5.03887208e+175, 1.53044312e-094, 3.16046395e+180],\n",
              "        [7.26588105e+223, 7.29537362e+175, 1.97278832e-153,\n",
              "         5.97185003e+175, 4.55816195e+257, 2.20892690e+161,\n",
              "         2.64512473e+185, 2.93305690e+222, 1.43616552e+161]],\n",
              "\n",
              "       [[1.89130245e+219, 3.99461109e+252, 1.90649515e+185,\n",
              "         5.04533203e+223, 1.06209545e+248, 8.02675125e-095,\n",
              "         2.11336376e+214, 1.89122267e+219, 1.96097649e+243],\n",
              "        [9.10016856e+276, 3.57722603e-057, 1.78935926e+161,\n",
              "         1.96841819e-153, 4.18001791e+175, 1.28897780e+248,\n",
              "         8.18434960e-085, 4.50381864e+132, 1.49347735e+214],\n",
              "        [9.45869679e-154, 9.53728330e-307, 3.91701626e-027,\n",
              "         3.57755833e+160, 7.10569206e+159, 6.08709905e+247,\n",
              "         1.89122267e+219, 1.96097649e+243, 9.10016856e+276]]])"
            ]
          },
          "metadata": {},
          "execution_count": 16
        }
      ],
      "source": [
        "# El resultado de np.empty no es predecible\n",
        "# Inicializa los valores del array con lo que haya en memoria en ese momento\n",
        "np.empty((2, 3, 9))"
      ]
    },
    {
      "cell_type": "code",
      "execution_count": 17,
      "metadata": {
        "colab": {
          "base_uri": "https://localhost:8080/"
        },
        "id": "KWOlGEd0kJRT",
        "outputId": "a5df396f-bf14-46a3-f442-642cf69696af"
      },
      "outputs": [
        {
          "output_type": "execute_result",
          "data": {
            "text/plain": [
              "array([[1, 2, 3],\n",
              "       [4, 5, 6]])"
            ]
          },
          "metadata": {},
          "execution_count": 17
        }
      ],
      "source": [
        "# Inicializacion del array utilizando un array de Python\n",
        "b = np.array([[1, 2, 3], [4, 5, 6]])\n",
        "b"
      ]
    },
    {
      "cell_type": "code",
      "execution_count": 18,
      "metadata": {
        "colab": {
          "base_uri": "https://localhost:8080/"
        },
        "id": "gGu052LgkJRU",
        "outputId": "e8bd5453-1c13-4c87-c3ca-14c7341d1ae8"
      },
      "outputs": [
        {
          "output_type": "execute_result",
          "data": {
            "text/plain": [
              "(2, 3)"
            ]
          },
          "metadata": {},
          "execution_count": 18
        }
      ],
      "source": [
        "b.shape"
      ]
    },
    {
      "cell_type": "code",
      "execution_count": 19,
      "metadata": {
        "colab": {
          "base_uri": "https://localhost:8080/"
        },
        "id": "PsFxxMT7kJRU",
        "outputId": "ae4e7d8f-5bac-420a-990f-75744abb7aec"
      },
      "outputs": [
        {
          "output_type": "stream",
          "name": "stdout",
          "text": [
            "[0.         0.66666667 1.33333333 2.         2.66666667 3.33333333\n",
            " 4.         4.66666667 5.33333333 6.        ]\n"
          ]
        }
      ],
      "source": [
        "# Creación del array utilizando una función basada en rangos\n",
        "# (minimo, maximo, número elementos del array)\n",
        "print(np.linspace(0, 6, 10))"
      ]
    },
    {
      "cell_type": "code",
      "execution_count": 20,
      "metadata": {
        "colab": {
          "base_uri": "https://localhost:8080/"
        },
        "id": "QgwjS55RkJRU",
        "outputId": "9a1b2046-5e77-4cef-eab5-71cfbaf4c566"
      },
      "outputs": [
        {
          "output_type": "execute_result",
          "data": {
            "text/plain": [
              "array([[[0.18375507, 0.60295834, 0.30814618, 0.37229322],\n",
              "        [0.1444674 , 0.77297769, 0.94131524, 0.0046597 ],\n",
              "        [0.52672428, 0.15532427, 0.30425628, 0.03811665]],\n",
              "\n",
              "       [[0.08462363, 0.25887935, 0.22416527, 0.44332623],\n",
              "        [0.75242873, 0.11609462, 0.07539254, 0.5830767 ],\n",
              "        [0.78615449, 0.63624802, 0.70704709, 0.34761321]]])"
            ]
          },
          "metadata": {},
          "execution_count": 20
        }
      ],
      "source": [
        "# Inicialización del array con valores aleatorios\n",
        "np.random.rand(2, 3, 4)"
      ]
    },
    {
      "cell_type": "code",
      "execution_count": 21,
      "metadata": {
        "colab": {
          "base_uri": "https://localhost:8080/"
        },
        "id": "aoRuDT4nkJRU",
        "outputId": "aca9a776-b578-469e-df91-ecbfd838d2d5"
      },
      "outputs": [
        {
          "output_type": "execute_result",
          "data": {
            "text/plain": [
              "array([[ 0.60280627, -0.16952569, -0.44084298,  0.485274  ],\n",
              "       [ 0.08777716,  0.5938355 ,  0.49935372,  0.99192604]])"
            ]
          },
          "metadata": {},
          "execution_count": 21
        }
      ],
      "source": [
        "# Inicialización del array con valores aleatorios conforme a una distribución normal\n",
        "np.random.randn(2, 4)"
      ]
    },
    {
      "cell_type": "code",
      "execution_count": 23,
      "metadata": {
        "colab": {
          "base_uri": "https://localhost:8080/",
          "height": 430
        },
        "id": "BYjeU3CvkJRU",
        "outputId": "87bfa017-ab56-4610-a806-ac5658b1bc7a"
      },
      "outputs": [
        {
          "output_type": "display_data",
          "data": {
            "text/plain": [
              "<Figure size 640x480 with 1 Axes>"
            ],
            "image/png": "[encoded data removed]"
          },
          "metadata": {}
        }
      ],
      "source": [
        "c = np.random.randn(1000000)\n",
        "\n",
        "plt.hist(c, bins=200)\n",
        "plt.show()"
      ]
    },
    {
      "cell_type": "code",
      "execution_count": 25,
      "metadata": {
        "colab": {
          "base_uri": "https://localhost:8080/"
        },
        "id": "SjK15FqxkJRU",
        "outputId": "f9458963-e3b9-4a44-eb38-7eb52928b9fa"
      },
      "outputs": [
        {
          "output_type": "execute_result",
          "data": {
            "text/plain": [
              "array([[ 0.,  2.,  4.,  6.,  8.],\n",
              "       [ 1.,  3.,  5.,  7.,  9.],\n",
              "       [ 2.,  4.,  6.,  8., 10.]])"
            ]
          },
          "metadata": {},
          "execution_count": 25
        }
      ],
      "source": [
        "# Inicialización del Array utilizando una función personalizada\n",
        "\n",
        "def func(x, y):\n",
        "    return x + 2 * y\n",
        "\n",
        "np.fromfunction(func, (3, 5))"
      ]
    },
    {
      "cell_type": "markdown",
      "metadata": {
        "id": "2zvzvWP0kJRU"
      },
      "source": [
        "## Acceso a los elementos de un array"
      ]
    },
    {
      "cell_type": "markdown",
      "metadata": {
        "id": "z6szC6bokJRU"
      },
      "source": [
        "### Array unidimensional"
      ]
    },
    {
      "cell_type": "code",
      "execution_count": 26,
      "metadata": {
        "colab": {
          "base_uri": "https://localhost:8080/"
        },
        "id": "OlxsAWELkJRU",
        "outputId": "7b43d74f-bdb2-4da4-b5bb-76bc9ab326cb"
      },
      "outputs": [
        {
          "output_type": "stream",
          "name": "stdout",
          "text": [
            "Shape: (6,)\n",
            "Array_uni: [ 1  3  5  7  9 11]\n"
          ]
        }
      ],
      "source": [
        "# Creación de un Array unidimensional\n",
        "array_uni = np.array([1, 3, 5, 7, 9, 11])\n",
        "print(\"Shape:\", array_uni.shape)\n",
        "print(\"Array_uni:\", array_uni)"
      ]
    },
    {
      "cell_type": "code",
      "execution_count": 27,
      "metadata": {
        "colab": {
          "base_uri": "https://localhost:8080/"
        },
        "id": "e79S78bRkJRV",
        "outputId": "39fc4449-9d07-4d54-e2ac-f2dd9156b0a0"
      },
      "outputs": [
        {
          "output_type": "execute_result",
          "data": {
            "text/plain": [
              "np.int64(9)"
            ]
          },
          "metadata": {},
          "execution_count": 27
        }
      ],
      "source": [
        "# Accediendo al quinto elemento del Array\n",
        "array_uni[4]"
      ]
    },
    {
      "cell_type": "code",
      "execution_count": 28,
      "metadata": {
        "colab": {
          "base_uri": "https://localhost:8080/"
        },
        "id": "GI5HBfPmkJRV",
        "outputId": "98c7ab30-01f6-470e-da4e-a547bc666859"
      },
      "outputs": [
        {
          "output_type": "execute_result",
          "data": {
            "text/plain": [
              "array([5, 7])"
            ]
          },
          "metadata": {},
          "execution_count": 28
        }
      ],
      "source": [
        "# Accediendo al tercer y cuarto elemento del Array\n",
        "array_uni[2:4]"
      ]
    },
    {
      "cell_type": "code",
      "execution_count": 29,
      "metadata": {
        "colab": {
          "base_uri": "https://localhost:8080/"
        },
        "id": "o6gxpwQOkJRV",
        "outputId": "c5dae04a-4e5a-4da5-eec8-75e473993198"
      },
      "outputs": [
        {
          "output_type": "execute_result",
          "data": {
            "text/plain": [
              "array([1, 7])"
            ]
          },
          "metadata": {},
          "execution_count": 29
        }
      ],
      "source": [
        "# Accediendo a los elementos 0, 3 y 5 del Array\n",
        "array_uni[0::3]"
      ]
    },
    {
      "cell_type": "markdown",
      "metadata": {
        "id": "ppw3S2vikJRV"
      },
      "source": [
        "### Array multidimensional"
      ]
    },
    {
      "cell_type": "code",
      "execution_count": 30,
      "metadata": {
        "colab": {
          "base_uri": "https://localhost:8080/"
        },
        "id": "7FX-7PgQkJRV",
        "outputId": "63a2f5b2-626b-465d-b260-f925e53e515d"
      },
      "outputs": [
        {
          "output_type": "stream",
          "name": "stdout",
          "text": [
            "Shape: (2, 4)\n",
            "Array_multi:\n",
            " [[1 2 3 4]\n",
            " [5 6 7 8]]\n"
          ]
        }
      ],
      "source": [
        "# Creación de un Array multidimensional\n",
        "array_multi = np.array([[1, 2, 3, 4], [5, 6, 7, 8]])\n",
        "print(\"Shape:\", array_multi.shape)\n",
        "print(\"Array_multi:\\n\", array_multi)"
      ]
    },
    {
      "cell_type": "code",
      "execution_count": 31,
      "metadata": {
        "colab": {
          "base_uri": "https://localhost:8080/"
        },
        "id": "CuxxwBiDkJRV",
        "outputId": "4cb85c3c-21c1-4b26-f9fc-bf68bc32c34d"
      },
      "outputs": [
        {
          "output_type": "execute_result",
          "data": {
            "text/plain": [
              "np.int64(4)"
            ]
          },
          "metadata": {},
          "execution_count": 31
        }
      ],
      "source": [
        "# Accediendo al cuarto elemento del Array\n",
        "array_multi[0, 3]"
      ]
    },
    {
      "cell_type": "code",
      "execution_count": 32,
      "metadata": {
        "colab": {
          "base_uri": "https://localhost:8080/"
        },
        "id": "j-jm4esukJRV",
        "outputId": "8b881b4a-affa-4efd-fcae-19a4d3b2702c"
      },
      "outputs": [
        {
          "output_type": "execute_result",
          "data": {
            "text/plain": [
              "array([5, 6, 7, 8])"
            ]
          },
          "metadata": {},
          "execution_count": 32
        }
      ],
      "source": [
        "# Accediendo a la segunda fila del Array\n",
        "array_multi[1, :]"
      ]
    },
    {
      "cell_type": "code",
      "execution_count": 33,
      "metadata": {
        "colab": {
          "base_uri": "https://localhost:8080/"
        },
        "id": "QEW3mzo6kJRV",
        "outputId": "251b327b-4f82-4926-c4a4-87932e6f0970"
      },
      "outputs": [
        {
          "output_type": "execute_result",
          "data": {
            "text/plain": [
              "array([3, 7])"
            ]
          },
          "metadata": {},
          "execution_count": 33
        }
      ],
      "source": [
        "# Accediendo al tercer elemento de las dos primeras filas del Array\n",
        "array_multi[0:2, 2]"
      ]
    },
    {
      "cell_type": "markdown",
      "metadata": {
        "id": "KjHidHjgkJRV"
      },
      "source": [
        "## Modificación de un Array"
      ]
    },
    {
      "cell_type": "code",
      "execution_count": 34,
      "metadata": {
        "colab": {
          "base_uri": "https://localhost:8080/"
        },
        "id": "ebRK-bolkJRV",
        "outputId": "e3da6566-6cb6-4f45-c597-2573eabd7b8b"
      },
      "outputs": [
        {
          "output_type": "stream",
          "name": "stdout",
          "text": [
            "Shape: (28,)\n",
            "Array 1: [ 0  1  2  3  4  5  6  7  8  9 10 11 12 13 14 15 16 17 18 19 20 21 22 23\n",
            " 24 25 26 27]\n"
          ]
        }
      ],
      "source": [
        "# Creación de un Array unidimensional inicializado con el rango de elementos 0-27\n",
        "array1 = np.arange(28)\n",
        "print(\"Shape:\", array1.shape)\n",
        "print(\"Array 1:\", array1)"
      ]
    },
    {
      "cell_type": "code",
      "execution_count": 35,
      "metadata": {
        "colab": {
          "base_uri": "https://localhost:8080/"
        },
        "id": "aNhtVlFgkJRV",
        "outputId": "51d9f6b3-34a4-4af9-9132-e945fab16ab1"
      },
      "outputs": [
        {
          "output_type": "stream",
          "name": "stdout",
          "text": [
            "Shape: (7, 4)\n",
            "Array 1:\n",
            " [[ 0  1  2  3]\n",
            " [ 4  5  6  7]\n",
            " [ 8  9 10 11]\n",
            " [12 13 14 15]\n",
            " [16 17 18 19]\n",
            " [20 21 22 23]\n",
            " [24 25 26 27]]\n"
          ]
        }
      ],
      "source": [
        "# Cambiar las dimensiones del Array y sus longitudes\n",
        "array1.shape = (7, 4)\n",
        "print(\"Shape:\", array1.shape)\n",
        "print(\"Array 1:\\n\", array1)"
      ]
    },
    {
      "cell_type": "code",
      "execution_count": 36,
      "metadata": {
        "colab": {
          "base_uri": "https://localhost:8080/"
        },
        "id": "RKgVGcf1kJRi",
        "outputId": "398b4151-b271-4dc9-ccfe-7050d6553712"
      },
      "outputs": [
        {
          "output_type": "stream",
          "name": "stdout",
          "text": [
            "Shape: (4, 7)\n",
            "Array 2:\n",
            " [[ 0  1  2  3  4  5  6]\n",
            " [ 7  8  9 10 11 12 13]\n",
            " [14 15 16 17 18 19 20]\n",
            " [21 22 23 24 25 26 27]]\n"
          ]
        }
      ],
      "source": [
        "# El ejemplo anterior devuelve un nuevo Array que apunta a los mismos datos.\n",
        "# Importante: Modificaciones en un Array, modificaran el otro Array\n",
        "array2 = array1.reshape(4, 7)\n",
        "print(\"Shape:\", array2.shape)\n",
        "print(\"Array 2:\\n\", array2)"
      ]
    },
    {
      "cell_type": "code",
      "execution_count": 37,
      "metadata": {
        "colab": {
          "base_uri": "https://localhost:8080/"
        },
        "id": "i1nXDL18kJRj",
        "outputId": "5781eeb3-ea70-40f6-a850-65811d3c96aa"
      },
      "outputs": [
        {
          "output_type": "stream",
          "name": "stdout",
          "text": [
            "Array 2:\n",
            " [[ 0  1  2 20  4  5  6]\n",
            " [ 7  8  9 10 11 12 13]\n",
            " [14 15 16 17 18 19 20]\n",
            " [21 22 23 24 25 26 27]]\n"
          ]
        }
      ],
      "source": [
        "# Modificación del nuevo Array devuelto\n",
        "array2[0, 3] = 20\n",
        "print(\"Array 2:\\n\", array2)"
      ]
    },
    {
      "cell_type": "code",
      "execution_count": 38,
      "metadata": {
        "colab": {
          "base_uri": "https://localhost:8080/"
        },
        "id": "T_WmGqD0kJRj",
        "outputId": "e6306a33-3437-4f0b-c640-6d38d0db09cd"
      },
      "outputs": [
        {
          "output_type": "stream",
          "name": "stdout",
          "text": [
            "Array 1:\n",
            " [[ 0  1  2 20]\n",
            " [ 4  5  6  7]\n",
            " [ 8  9 10 11]\n",
            " [12 13 14 15]\n",
            " [16 17 18 19]\n",
            " [20 21 22 23]\n",
            " [24 25 26 27]]\n"
          ]
        }
      ],
      "source": [
        "print(\"Array 1:\\n\", array1)"
      ]
    },
    {
      "cell_type": "code",
      "execution_count": 39,
      "metadata": {
        "colab": {
          "base_uri": "https://localhost:8080/"
        },
        "id": "HjMX5LH4kJRj",
        "outputId": "9e866aa1-4724-476b-c6d9-2cb51e91be94"
      },
      "outputs": [
        {
          "output_type": "stream",
          "name": "stdout",
          "text": [
            "Array 1: [ 0  1  2 20  4  5  6  7  8  9 10 11 12 13 14 15 16 17 18 19 20 21 22 23\n",
            " 24 25 26 27]\n"
          ]
        }
      ],
      "source": [
        "# Desenvuelve el Array, devolviendo un nuevo Array de una sola dimension\n",
        "# Importante: El nuevo array apunta a los mismos datos\n",
        "print(\"Array 1:\", array1.ravel())"
      ]
    },
    {
      "cell_type": "markdown",
      "metadata": {
        "id": "IqxaE2jVkJRj"
      },
      "source": [
        "## Operaciones aritméticas con Arrays"
      ]
    },
    {
      "cell_type": "code",
      "execution_count": 40,
      "metadata": {
        "colab": {
          "base_uri": "https://localhost:8080/"
        },
        "id": "AgXafiEWkJRj",
        "outputId": "5c616b32-55c3-4b24-c325-c73a7d79a834"
      },
      "outputs": [
        {
          "output_type": "stream",
          "name": "stdout",
          "text": [
            "Array 1: [ 2  4  6  8 10 12 14 16]\n",
            "Array 2: [0 1 2 3 4 5 6 7]\n"
          ]
        }
      ],
      "source": [
        "# Creación de dos Arrays unidimensionales\n",
        "array1 = np.arange(2, 18, 2)\n",
        "array2 = np.arange(8)\n",
        "print(\"Array 1:\", array1)\n",
        "print(\"Array 2:\", array2)"
      ]
    },
    {
      "cell_type": "code",
      "execution_count": 41,
      "metadata": {
        "colab": {
          "base_uri": "https://localhost:8080/"
        },
        "id": "_W7OwbZzkJRj",
        "outputId": "970d5ee2-f5a3-496a-d800-5be5f711052b"
      },
      "outputs": [
        {
          "output_type": "stream",
          "name": "stdout",
          "text": [
            "[ 2  5  8 11 14 17 20 23]\n"
          ]
        }
      ],
      "source": [
        "# Suma\n",
        "print(array1 + array2)"
      ]
    },
    {
      "cell_type": "code",
      "execution_count": 42,
      "metadata": {
        "colab": {
          "base_uri": "https://localhost:8080/"
        },
        "id": "H7ZrKoUDkJRj",
        "outputId": "89b5759e-0ed1-4142-e3ce-076af1e4193a"
      },
      "outputs": [
        {
          "output_type": "stream",
          "name": "stdout",
          "text": [
            "[2 3 4 5 6 7 8 9]\n"
          ]
        }
      ],
      "source": [
        "# Resta\n",
        "print(array1 - array2)"
      ]
    },
    {
      "cell_type": "code",
      "execution_count": 43,
      "metadata": {
        "colab": {
          "base_uri": "https://localhost:8080/"
        },
        "id": "H6E2DQoqkJRj",
        "outputId": "dd79de25-8909-4244-940f-62f51b26c7b6"
      },
      "outputs": [
        {
          "output_type": "stream",
          "name": "stdout",
          "text": [
            "[  0   4  12  24  40  60  84 112]\n"
          ]
        }
      ],
      "source": [
        "# Multiplicacion\n",
        "# Importante: No es una multiplicación de matrices\n",
        "print(array1 * array2)"
      ]
    },
    {
      "cell_type": "markdown",
      "metadata": {
        "id": "OEaAY0LEkJRj"
      },
      "source": [
        "## Broadcasting"
      ]
    },
    {
      "cell_type": "markdown",
      "metadata": {
        "id": "Ioy9aLcBkJRj"
      },
      "source": [
        "Si se aplican operaciones aritméticas sobre Arrays que no tienen la misma forma (shape) Numpy aplica un propiedad que se denomina Broadcasting."
      ]
    },
    {
      "cell_type": "code",
      "execution_count": 44,
      "metadata": {
        "colab": {
          "base_uri": "https://localhost:8080/"
        },
        "id": "sT9tpp-ukJRj",
        "outputId": "348f620d-a262-4473-b0f9-9fb114bb2e45"
      },
      "outputs": [
        {
          "output_type": "stream",
          "name": "stdout",
          "text": [
            "Shape Array 1: (5,)\n",
            "Array 1: [0 1 2 3 4]\n",
            "\n",
            "Shape Array 2: (1,)\n",
            "Array 2: [3]\n"
          ]
        }
      ],
      "source": [
        "# Creación de dos Arrays unidimensionales\n",
        "array1 = np.arange(5)\n",
        "array2 = np.array([3])\n",
        "print(\"Shape Array 1:\", array1.shape)\n",
        "print(\"Array 1:\", array1)\n",
        "print()\n",
        "print(\"Shape Array 2:\", array2.shape)\n",
        "print(\"Array 2:\", array2)"
      ]
    },
    {
      "cell_type": "code",
      "execution_count": 45,
      "metadata": {
        "colab": {
          "base_uri": "https://localhost:8080/"
        },
        "id": "kpPwRghXkJRj",
        "outputId": "3f33eab9-35c0-484c-f53a-4d123c227c35"
      },
      "outputs": [
        {
          "output_type": "execute_result",
          "data": {
            "text/plain": [
              "array([3, 4, 5, 6, 7])"
            ]
          },
          "metadata": {},
          "execution_count": 45
        }
      ],
      "source": [
        "# Suma de ambos Arrays\n",
        "array1 + array2"
      ]
    },
    {
      "cell_type": "code",
      "execution_count": 46,
      "metadata": {
        "colab": {
          "base_uri": "https://localhost:8080/"
        },
        "id": "xXAdpNfjkJRk",
        "outputId": "9a169dc6-d35f-4d92-e37b-4623ca33bcb1"
      },
      "outputs": [
        {
          "output_type": "stream",
          "name": "stdout",
          "text": [
            "Shape Array 1: (2, 3)\n",
            "Array 1:\n",
            " [[0 1 2]\n",
            " [3 4 5]]\n",
            "\n",
            "Shape Array 2: (3,)\n",
            "Array 2: [ 6 10 14]\n"
          ]
        }
      ],
      "source": [
        "# Creación de dos Arrays multidimensional y unidimensional\n",
        "array1 = np.arange(6)\n",
        "array1.shape = (2, 3)\n",
        "array2 = np.arange(6, 18, 4)\n",
        "print(\"Shape Array 1:\", array1.shape)\n",
        "print(\"Array 1:\\n\", array1)\n",
        "print()\n",
        "print(\"Shape Array 2:\", array2.shape)\n",
        "print(\"Array 2:\", array2)"
      ]
    },
    {
      "cell_type": "code",
      "execution_count": 47,
      "metadata": {
        "colab": {
          "base_uri": "https://localhost:8080/"
        },
        "id": "h_yMsuFYkJRk",
        "outputId": "24f63965-a629-4f25-f1e5-968db8540ee8"
      },
      "outputs": [
        {
          "output_type": "execute_result",
          "data": {
            "text/plain": [
              "array([[ 6, 11, 16],\n",
              "       [ 9, 14, 19]])"
            ]
          },
          "metadata": {},
          "execution_count": 47
        }
      ],
      "source": [
        "# Suma de ambos Arrays\n",
        "array1 + array2"
      ]
    },
    {
      "cell_type": "markdown",
      "metadata": {
        "id": "8dA4cypLkJRk"
      },
      "source": [
        "## Funciones estadísticas sobre Arrays"
      ]
    },
    {
      "cell_type": "code",
      "execution_count": 48,
      "metadata": {
        "colab": {
          "base_uri": "https://localhost:8080/"
        },
        "id": "7ulW6C3wkJRk",
        "outputId": "7ff0ed43-2b9c-4ced-c49b-51e58fe82e8d"
      },
      "outputs": [
        {
          "output_type": "stream",
          "name": "stdout",
          "text": [
            "Array 1: [ 1  3  5  7  9 11 13 15 17 19]\n"
          ]
        }
      ],
      "source": [
        "# Creación de un Array unidimensional\n",
        "array1 = np.arange(1, 20, 2)\n",
        "print(\"Array 1:\", array1)"
      ]
    },
    {
      "cell_type": "code",
      "execution_count": 49,
      "metadata": {
        "colab": {
          "base_uri": "https://localhost:8080/"
        },
        "id": "C30azj-skJRk",
        "outputId": "d2dbeb5c-da14-4727-cbb4-5f2e65d9237f"
      },
      "outputs": [
        {
          "output_type": "execute_result",
          "data": {
            "text/plain": [
              "np.float64(10.0)"
            ]
          },
          "metadata": {},
          "execution_count": 49
        }
      ],
      "source": [
        "# Media de los elementos del Array\n",
        "array1.mean()"
      ]
    },
    {
      "cell_type": "code",
      "execution_count": 50,
      "metadata": {
        "colab": {
          "base_uri": "https://localhost:8080/"
        },
        "id": "F3CJDy06kJRk",
        "outputId": "61ec909c-6894-4b9f-bdfa-f840058f493b"
      },
      "outputs": [
        {
          "output_type": "execute_result",
          "data": {
            "text/plain": [
              "np.int64(100)"
            ]
          },
          "metadata": {},
          "execution_count": 50
        }
      ],
      "source": [
        "# Suma de los elementos del Array\n",
        "array1.sum()"
      ]
    },
    {
      "cell_type": "markdown",
      "metadata": {
        "id": "tF5fwcNOkJRk"
      },
      "source": [
        "Funciones universales eficientes proporcionadas por numpy: **ufunc**"
      ]
    },
    {
      "cell_type": "code",
      "execution_count": 51,
      "metadata": {
        "colab": {
          "base_uri": "https://localhost:8080/"
        },
        "id": "7LXZarzAkJRk",
        "outputId": "e5bb3963-5dd9-44c6-d2c0-a731a4bc7606"
      },
      "outputs": [
        {
          "output_type": "execute_result",
          "data": {
            "text/plain": [
              "array([  1,   9,  25,  49,  81, 121, 169, 225, 289, 361])"
            ]
          },
          "metadata": {},
          "execution_count": 51
        }
      ],
      "source": [
        "# Cuadrado de los elementos del Array\n",
        "np.square(array1)"
      ]
    },
    {
      "cell_type": "code",
      "execution_count": 52,
      "metadata": {
        "colab": {
          "base_uri": "https://localhost:8080/"
        },
        "id": "OAjQqlMikJRk",
        "outputId": "1e5a359d-318f-4c0c-a28e-bb28dfc4ced0"
      },
      "outputs": [
        {
          "output_type": "execute_result",
          "data": {
            "text/plain": [
              "array([1.        , 1.73205081, 2.23606798, 2.64575131, 3.        ,\n",
              "       3.31662479, 3.60555128, 3.87298335, 4.12310563, 4.35889894])"
            ]
          },
          "metadata": {},
          "execution_count": 52
        }
      ],
      "source": [
        "# Raiz cuadrada de los elementos del Array\n",
        "np.sqrt(array1)"
      ]
    },
    {
      "cell_type": "code",
      "execution_count": 53,
      "metadata": {
        "colab": {
          "base_uri": "https://localhost:8080/"
        },
        "id": "0bOQGrw_kJRl",
        "outputId": "5932cb13-f59a-4cca-c720-7dc5900bd5c3"
      },
      "outputs": [
        {
          "output_type": "execute_result",
          "data": {
            "text/plain": [
              "array([2.71828183e+00, 2.00855369e+01, 1.48413159e+02, 1.09663316e+03,\n",
              "       8.10308393e+03, 5.98741417e+04, 4.42413392e+05, 3.26901737e+06,\n",
              "       2.41549528e+07, 1.78482301e+08])"
            ]
          },
          "metadata": {},
          "execution_count": 53
        }
      ],
      "source": [
        "# Exponencial de los elementos del Array\n",
        "np.exp(array1)"
      ]
    },
    {
      "cell_type": "code",
      "execution_count": 54,
      "metadata": {
        "colab": {
          "base_uri": "https://localhost:8080/"
        },
        "id": "_AsWvZqgkJRl",
        "outputId": "bc5b2ce7-5ff0-4403-939d-33e7d9f88ff8"
      },
      "outputs": [
        {
          "output_type": "execute_result",
          "data": {
            "text/plain": [
              "array([0.        , 1.09861229, 1.60943791, 1.94591015, 2.19722458,\n",
              "       2.39789527, 2.56494936, 2.7080502 , 2.83321334, 2.94443898])"
            ]
          },
          "metadata": {},
          "execution_count": 54
        }
      ],
      "source": [
        "# log de los elementos del Array\n",
        "np.log(array1)"
      ]
    }
  ],
  "metadata": {
    "kernelspec": {
      "display_name": "Python 3",
      "language": "python",
      "name": "python3"
    },
    "language_info": {
      "codemirror_mode": {
        "name": "ipython",
        "version": 3
      },
      "file_extension": ".py",
      "mimetype": "text/x-python",
      "name": "python",
      "nbconvert_exporter": "python",
      "pygments_lexer": "ipython3",
      "version": "3.8.5"
    },
    "colab": {
      "provenance": [],
      "include_colab_link": true
    }
  },
  "nbformat": 4,
  "nbformat_minor": 0
}